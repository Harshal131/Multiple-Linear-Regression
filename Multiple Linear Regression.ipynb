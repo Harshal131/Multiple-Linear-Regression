{
 "cells": [
  {
   "cell_type": "code",
   "execution_count": 1,
   "metadata": {},
   "outputs": [],
   "source": [
    "import pandas as pd\n",
    "import numpy as np\n",
    "from sklearn.linear_model import LinearRegression"
   ]
  },
  {
   "cell_type": "code",
   "execution_count": 2,
   "metadata": {},
   "outputs": [
    {
     "name": "stdout",
     "output_type": "stream",
     "text": [
      "   Miscellaneous_Expenses  Food_Innovation_Spend  Advertising     City  \\\n",
      "0               138671.80              167497.20    475918.10  Chicago   \n",
      "1               153151.59              164745.70    448032.53   Mumbai   \n",
      "2               102919.55              155589.51    412068.54    Tokyo   \n",
      "3               120445.85              146520.41    387333.62  Chicago   \n",
      "4                93165.77              144255.34    370302.42    Tokyo   \n",
      "\n",
      "      Profit  \n",
      "0  202443.83  \n",
      "1  201974.06  \n",
      "2  201232.39  \n",
      "3  193083.99  \n",
      "4  176369.94  \n",
      "[[138671.8 167497.2 475918.1 'Chicago']\n",
      " [153151.59 164745.7 448032.53 'Mumbai']\n",
      " [102919.55 155589.51 412068.54 'Tokyo']\n",
      " [120445.85 146520.41 387333.62 'Chicago']\n",
      " [93165.77 144255.34 370302.42 'Tokyo']\n",
      " [101588.71 134024.9 366995.36 'Chicago']\n",
      " [148972.87 136763.46 131850.82 'Mumbai']\n",
      " [147304.06 132446.13 328010.68 'Tokyo']\n",
      " [150492.95 122690.52 315747.29 'Chicago']\n",
      " [110453.17 125482.88 309115.62 'Mumbai']\n",
      " [112368.11 104061.08 233294.95 'Tokyo']\n",
      " [93564.61 102819.96 253878.55 'Mumbai']\n",
      " [129094.38 96011.75 253973.44 'Tokyo']\n",
      " [137269.07 94140.39 256798.93 'Mumbai']\n",
      " [158321.42 122091.24 260646.92 'Tokyo']\n",
      " [124390.84 116671.61 265910.23 'Chicago']\n",
      " [123371.55 80161.11 268480.06 'Mumbai']\n",
      " [146851.58 96805.16 286708.31 'Chicago']\n",
      " [115949.79 93897.16 299053.57 'Tokyo']\n",
      " [155288.11 88567.7 4134.0 'Chicago']\n",
      " [115641.3 78401.86 302798.47 'Mumbai']\n",
      " [155547.43 80537.47 303871.29 'Chicago']\n",
      " [124556.75 76142.56 307453.26 'Tokyo']\n",
      " [107525.03 69680.53 308902.73 'Tokyo']\n",
      " [101055.34 79192.01 144708.81 'Chicago']\n",
      " [141327.16 66812.71 142096.62 'Mumbai']\n",
      " [145909.98 77476.87 138184.07 'Tokyo']\n",
      " [129638.55 74255.6 357317.81 'Chicago']\n",
      " [184419.56 68199.52 122282.2 'Tokyo']\n",
      " [154806.06 67753.48 111272.38 'Chicago']\n",
      " [117415.28 64142.48 95265.24 'Tokyo']\n",
      " [154475.92 63284.38 92352.23 'Chicago']\n",
      " [130993.61 65556.86 50219.25 'Mumbai']\n",
      " [104831.49 57641.95 218768.81 'Tokyo']\n",
      " [159467.92 48574.07 214931.67 'Mumbai']\n",
      " [86821.44 48162.02 209651.64 'Chicago']\n",
      " [128830.21 30811.76 205260.82 'Tokyo']\n",
      " [53057.14 46217.95 201163.42 'Mumbai']\n",
      " [67721.93 22377.59 189399.1 'Chicago']\n",
      " [84756.09 40706.51 179133.3 'Mumbai']\n",
      " [120320.05 30902.33 176929.67 'Mumbai']\n",
      " [86484.77 30040.92 168604.71 'Tokyo']\n",
      " [97963.63 25788.93 152135.11 'Mumbai']\n",
      " [129156.3 17653.73 39668.17 'Chicago']\n",
      " [156580.14 24325.74 32468.72 'Mumbai']\n",
      " [125927.04 3148.23 6037.93 'Chicago']\n",
      " [117590.21 3463.46 301248.46 'Tokyo']\n",
      " [137200.92 2148.0 4134.0 'Mumbai']\n",
      " [53517.15 2690.05 4134.0 'Chicago']\n",
      " [118757.8 2148.0 49307.06 'Mumbai']]\n",
      "[202443.83 201974.06 201232.39 193083.99 176369.94 167173.12 166304.51\n",
      " 165934.6  162393.77 159941.96 156303.95 154441.4  151767.52 144489.35\n",
      " 142784.65 140099.04 137174.93 135552.37 134448.9  132958.86 128656.03\n",
      " 121495.02 120534.25 118915.99 118734.04 117586.34 115915.54 115190.31\n",
      " 113464.38 111186.64 110119.59 107665.56 107609.84 106960.92 106894.8\n",
      " 106661.51 100890.19 100131.14  91411.06  91187.76  88421.91  87980.83\n",
      "  81680.49  79940.98  75382.33  75108.08  59672.75  52741.73  45855.41\n",
      "  24863.4 ]\n"
     ]
    }
   ],
   "source": [
    "Data=pd.read_csv('Data_multiple_linear_regression.csv')\n",
    "print(Data.head())\n",
    "Independent_Variables=Data.iloc[:,:-1].values\n",
    "Dependent_Variables=Data.iloc[:,4].values\n",
    "print(Independent_Variables)\n",
    "print(Dependent_Variables)"
   ]
  },
  {
   "cell_type": "code",
   "execution_count": 3,
   "metadata": {},
   "outputs": [],
   "source": [
    "#Converting categorical column into numerical values\n",
    "from sklearn.preprocessing import LabelEncoder,OneHotEncoder\n",
    "from sklearn.compose import ColumnTransformer"
   ]
  },
  {
   "cell_type": "code",
   "execution_count": 4,
   "metadata": {},
   "outputs": [],
   "source": [
    "le=LabelEncoder()\n",
    "Independent_Variables[:,3]=le.fit_transform(Independent_Variables[:,3])"
   ]
  },
  {
   "cell_type": "code",
   "execution_count": 5,
   "metadata": {},
   "outputs": [],
   "source": [
    "ct = ColumnTransformer(\n",
    "    [('one_hot_encoder', OneHotEncoder(categories='auto'), [3])],\n",
    "    remainder='passthrough'\n",
    ")"
   ]
  },
  {
   "cell_type": "code",
   "execution_count": 6,
   "metadata": {},
   "outputs": [
    {
     "name": "stdout",
     "output_type": "stream",
     "text": [
      "[[     1      0 138671 167497 475918]\n",
      " [     0      1 153151 164745 448032]\n",
      " [     0      0 102919 155589 412068]\n",
      " [     1      0 120445 146520 387333]\n",
      " [     0      0  93165 144255 370302]\n",
      " [     1      0 101588 134024 366995]\n",
      " [     0      1 148972 136763 131850]\n",
      " [     0      0 147304 132446 328010]\n",
      " [     1      0 150492 122690 315747]\n",
      " [     0      1 110453 125482 309115]\n",
      " [     0      0 112368 104061 233294]\n",
      " [     0      1  93564 102819 253878]\n",
      " [     0      0 129094  96011 253973]\n",
      " [     0      1 137269  94140 256798]\n",
      " [     0      0 158321 122091 260646]\n",
      " [     1      0 124390 116671 265910]\n",
      " [     0      1 123371  80161 268480]\n",
      " [     1      0 146851  96805 286708]\n",
      " [     0      0 115949  93897 299053]\n",
      " [     1      0 155288  88567   4134]\n",
      " [     0      1 115641  78401 302798]\n",
      " [     1      0 155547  80537 303871]\n",
      " [     0      0 124556  76142 307453]\n",
      " [     0      0 107525  69680 308902]\n",
      " [     1      0 101055  79192 144708]\n",
      " [     0      1 141327  66812 142096]\n",
      " [     0      0 145909  77476 138184]\n",
      " [     1      0 129638  74255 357317]\n",
      " [     0      0 184419  68199 122282]\n",
      " [     1      0 154806  67753 111272]\n",
      " [     0      0 117415  64142  95265]\n",
      " [     1      0 154475  63284  92352]\n",
      " [     0      1 130993  65556  50219]\n",
      " [     0      0 104831  57641 218768]\n",
      " [     0      1 159467  48574 214931]\n",
      " [     1      0  86821  48162 209651]\n",
      " [     0      0 128830  30811 205260]\n",
      " [     0      1  53057  46217 201163]\n",
      " [     1      0  67721  22377 189399]\n",
      " [     0      1  84756  40706 179133]\n",
      " [     0      1 120320  30902 176929]\n",
      " [     0      0  86484  30040 168604]\n",
      " [     0      1  97963  25788 152135]\n",
      " [     1      0 129156  17653  39668]\n",
      " [     0      1 156580  24325  32468]\n",
      " [     1      0 125927   3148   6037]\n",
      " [     0      0 117590   3463 301248]\n",
      " [     0      1 137200   2148   4134]\n",
      " [     1      0  53517   2690   4134]\n",
      " [     0      1 118757   2148  49307]]\n"
     ]
    }
   ],
   "source": [
    "Independent_Variables=ct.fit_transform(Independent_Variables)\n",
    "Independent_Variables=Independent_Variables[:, [0,1,3,4,5] ]\n",
    "print(Independent_Variables.astype(int))"
   ]
  },
  {
   "cell_type": "code",
   "execution_count": 7,
   "metadata": {},
   "outputs": [
    {
     "name": "stdout",
     "output_type": "stream",
     "text": [
      "constant = 51168.39042488141\n",
      "coefficients = [-1.58229418e+02 -4.63028992e+02  3.01968165e-02  7.90840255e-01\n",
      "  3.10148566e-02]\n"
     ]
    }
   ],
   "source": [
    "#Splitting the training and testing data\n",
    "from sklearn.model_selection import train_test_split\n",
    "X_train, X_test, y_train, y_test = train_test_split(Independent_Variables, Dependent_Variables, test_size = 0.3, random_state = 0)\n",
    "model = LinearRegression()\n",
    "model.fit(X_train, y_train)\n",
    "print(f'constant = {model.intercept_}')\n",
    "print(f'coefficients = {model.coef_}')"
   ]
  },
  {
   "cell_type": "code",
   "execution_count": 8,
   "metadata": {},
   "outputs": [
    {
     "name": "stdout",
     "output_type": "stream",
     "text": [
      "       y_test      y_predict\n",
      "0   113464.38  114464.764722\n",
      "1   154441.40  142718.884992\n",
      "2   156303.95  144092.850078\n",
      "3    87980.83   82766.774894\n",
      "4   201232.39  190102.927619\n",
      "5   115190.31  124731.310792\n",
      "6    91411.06   76626.432613\n",
      "7   107665.56  108586.968401\n",
      "8   120534.25  124681.828086\n",
      "9   176369.94  179549.506399\n",
      "10  106960.92  106704.625400\n",
      "11  106661.51   98222.671829\n",
      "12  115915.54  121131.994055\n",
      "13  106894.80  100601.189785\n",
      "14  134448.90  138202.462501\n"
     ]
    }
   ],
   "source": [
    "#Predicting from the model on the testing data\n",
    "y_predict = model.predict(X_test)\n",
    "df = pd.DataFrame(data=y_test, columns=['y_test'])\n",
    "df['y_predict'] = y_predict\n",
    "print(df)\n"
   ]
  },
  {
   "cell_type": "code",
   "execution_count": 9,
   "metadata": {},
   "outputs": [
    {
     "name": "stdout",
     "output_type": "stream",
     "text": [
      "174222.7\n"
     ]
    }
   ],
   "source": [
    "#Predicting based on the custom values of independent varibles\n",
    "obs = [0,1,160349,134320,401409]\n",
    "feature_array = np.array(obs)\n",
    "feature_array = feature_array.reshape(1, -1)\n",
    "y_pred_obs = model.predict(feature_array)\n",
    "print(round(float(y_pred_obs), 2))"
   ]
  },
  {
   "cell_type": "code",
   "execution_count": 10,
   "metadata": {},
   "outputs": [
    {
     "name": "stdout",
     "output_type": "stream",
     "text": [
      "R-Square Error: 0.9358680970046511\n"
     ]
    }
   ],
   "source": [
    "#Evaluating the model using R Suared error method\n",
    "from sklearn import metrics\n",
    "model_eval= metrics.r2_score(y_test, y_predict)\n",
    "print('R-Square Error:', model_eval)"
   ]
  },
  {
   "cell_type": "code",
   "execution_count": 11,
   "metadata": {},
   "outputs": [
    {
     "name": "stdout",
     "output_type": "stream",
     "text": [
      "Adjusted R-Square Error : 0.9285803807551797\n"
     ]
    }
   ],
   "source": [
    "#Adjusting the R squared error\n",
    "n = 50\n",
    "p = 5\n",
    "Adjusted_r_square = 1-(1-model_eval)*(n-1)/(n-p-1)\n",
    "print('Adjusted R-Square Error :', Adjusted_r_square)"
   ]
  }
 ],
 "metadata": {
  "kernelspec": {
   "display_name": "Python 3",
   "language": "python",
   "name": "python3"
  },
  "language_info": {
   "codemirror_mode": {
    "name": "ipython",
    "version": 3
   },
   "file_extension": ".py",
   "mimetype": "text/x-python",
   "name": "python",
   "nbconvert_exporter": "python",
   "pygments_lexer": "ipython3",
   "version": "3.7.6"
  }
 },
 "nbformat": 4,
 "nbformat_minor": 4
}
